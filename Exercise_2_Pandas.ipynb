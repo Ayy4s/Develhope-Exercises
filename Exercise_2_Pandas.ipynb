{
  "nbformat": 4,
  "nbformat_minor": 0,
  "metadata": {
    "colab": {
      "provenance": [],
      "authorship_tag": "ABX9TyOi/TzBMtS5V5NVlqKUXTDW",
      "include_colab_link": true
    },
    "kernelspec": {
      "name": "python3",
      "display_name": "Python 3"
    },
    "language_info": {
      "name": "python"
    }
  },
  "cells": [
    {
      "cell_type": "markdown",
      "metadata": {
        "id": "view-in-github",
        "colab_type": "text"
      },
      "source": [
        "<a href=\"https://colab.research.google.com/github/Ayy4s/Develhope-Exercises/blob/main/Exercise_2_Pandas.ipynb\" target=\"_parent\"><img src=\"https://colab.research.google.com/assets/colab-badge.svg\" alt=\"Open In Colab\"/></a>"
      ]
    },
    {
      "cell_type": "code",
      "execution_count": null,
      "metadata": {
        "id": "iDk5VTxV_KC6"
      },
      "outputs": [],
      "source": [
        "import pandas as pd"
      ]
    },
    {
      "cell_type": "code",
      "source": [
        "df = pd.read_csv('/content/world_alcohol - world_alcohol.csv')\n"
      ],
      "metadata": {
        "id": "MX1LuuZ3_RNC"
      },
      "execution_count": null,
      "outputs": []
    },
    {
      "cell_type": "code",
      "source": [
        "regions = ['Africa', 'Eastern Mediterranean', 'Europe']"
      ],
      "metadata": {
        "id": "NubSyqMs_V-G"
      },
      "execution_count": null,
      "outputs": []
    },
    {
      "cell_type": "code",
      "source": [
        "filtered_df = df[df['WHO region'].isin(regions)]\n"
      ],
      "metadata": {
        "id": "sDXwpytQ_YBB"
      },
      "execution_count": null,
      "outputs": []
    },
    {
      "cell_type": "code",
      "source": [
        "print(filtered_df)"
      ],
      "metadata": {
        "id": "dz_YtKFG_ZeE",
        "outputId": "2f5ab3b4-042f-4632-b885-82e7dc03f3ed",
        "colab": {
          "base_uri": "https://localhost:8080/"
        }
      },
      "execution_count": null,
      "outputs": [
        {
          "output_type": "stream",
          "name": "stdout",
          "text": [
            "    Year WHO region            Country Beverage Types  Display Value\n",
            "2   1985     Africa       Cte d'Ivoire           Wine           1.62\n",
            "6   1987     Africa          Mauritius           Wine           0.13\n",
            "7   1985     Africa             Angola        Spirits           0.39\n",
            "9   1984     Africa            Nigeria          Other           6.10\n",
            "10  1987     Africa           Botswana           Wine           0.20\n",
            "..   ...        ...                ...            ...            ...\n",
            "93  1987     Africa         Madagascar          Other            NaN\n",
            "94  1985     Europe            Ukraine        Spirits           3.06\n",
            "95  1984     Africa              Niger          Other           0.00\n",
            "96  1985     Europe         Luxembourg           Wine           7.38\n",
            "98  1984     Africa  Equatorial Guinea           Wine           0.00\n",
            "\n",
            "[69 rows x 5 columns]\n"
          ]
        }
      ]
    }
  ]
}